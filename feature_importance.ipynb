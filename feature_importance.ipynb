{
 "metadata": {
  "language_info": {
   "codemirror_mode": {
    "name": "ipython",
    "version": 3
   },
   "file_extension": ".py",
   "mimetype": "text/x-python",
   "name": "python",
   "nbconvert_exporter": "python",
   "pygments_lexer": "ipython3",
   "version": "3.8.3-final"
  },
  "orig_nbformat": 2,
  "kernelspec": {
   "name": "python3",
   "display_name": "Python 3.8.3 64-bit ('anaconda3': virtualenv)",
   "metadata": {
    "interpreter": {
     "hash": "e75247f3b2cae98657785648017f63c6fb472cec43db9115b62817cec37ceb79"
    }
   }
  }
 },
 "nbformat": 4,
 "nbformat_minor": 2,
 "cells": [
  {
   "cell_type": "code",
   "execution_count": null,
   "metadata": {},
   "outputs": [],
   "source": [
    "#feature importance"
   ]
  },
  {
   "cell_type": "code",
   "execution_count": 2,
   "metadata": {},
   "outputs": [],
   "source": [
    "from datetime import datetime\n",
    "from datetime import date\n",
    "\n",
    "from numpy.random import seed\n",
    "seed(1)\n",
    "import tensorflow as tf\n",
    "tf.random.set_seed(2)\n",
    "\n",
    "\n",
    "from tensorflow.keras.models import Sequential\n",
    "from tensorflow.keras.layers import Dense\n",
    "from tensorflow.keras.layers import Dropout\n",
    "from tensorflow.keras import backend as K\n",
    "K.image_data_format()\n",
    "\n",
    "from keras.utils import np_utils\n",
    "\n",
    "from sklearn.preprocessing import LabelEncoder\n",
    "from sklearn.model_selection import train_test_split\n",
    "\n",
    "from keras.wrappers.scikit_learn import KerasClassifier, KerasRegressor\n",
    "import eli5\n",
    "from eli5.sklearn import PermutationImportance\n",
    "\n",
    "import time\n",
    "import io\n",
    "import os\n",
    "import re\n",
    "import pandas as pd\n",
    "import numpy as np"
   ]
  },
  {
   "cell_type": "code",
   "execution_count": 3,
   "metadata": {},
   "outputs": [
    {
     "output_type": "execute_result",
     "data": {
      "text/plain": [
       "(7203, 17)"
      ]
     },
     "metadata": {},
     "execution_count": 3
    }
   ],
   "source": [
    "seriea_raw = pd.read_csv('/Users/matthewfalcona/FalconaForecast/datasets/seriea_{current_date}.csv'.format(current_date=date.today()))\n",
    "ligue1_raw = pd.read_csv('/Users/matthewfalcona/FalconaForecast/datasets/ligue1_{current_date}.csv'.format(current_date=date.today()))\n",
    "laliga_raw = pd.read_csv('/Users/matthewfalcona/FalconaForecast/datasets/laliga_{current_date}.csv'.format(current_date=date.today()))\n",
    "bun_raw = pd.read_csv('/Users/matthewfalcona/FalconaForecast/datasets/bun_{current_date}.csv'.format(current_date=date.today()))\n",
    "epl_raw = pd.read_csv('/Users/matthewfalcona/FalconaForecast/datasets/epl_{current_date}.csv'.format(current_date=date.today()))\n",
    "\n",
    "\n",
    "\n",
    "# merging top 5 combined stats\n",
    "\n",
    "top5_raw = seriea_raw.append(ligue1_raw)\n",
    "top5_raw = top5_raw.append(laliga_raw)\n",
    "top5_raw = top5_raw.append(bun_raw)\n",
    "top5_raw = top5_raw.append(epl_raw)\n",
    "\n",
    "\n",
    "\"\"\"\n",
    "# using 20-21 stats for early season projections\n",
    "\n",
    "top5_raw = pd.read_csv('/Users/matthewfalcona/FalconaForecast/datasets/top5_2020-21.csv')\n",
    "\n",
    "# list of promoted teams to drop\n",
    "\n",
    "prom = ['Empoli','Salernitana','Venezia','Espanyol','Mallorca','RayoVallecano','Bochum','GreutherFurth','Troyes','Clermont','NorwichCity','Brentford','Watford']\n",
    "\"\"\"\n",
    "\n",
    "#top5_raw = top5_raw.drop('Unnamed: 0', axis = 1)\n",
    "top5_raw['psxg'] = top5_raw['psxg'] / top5_raw['gp']\n",
    "top5_raw['npxg'] = top5_raw['npxg'] / top5_raw['gp']\n",
    "top5_raw['np:G-xG'] = top5_raw['np:G-xG'] / top5_raw['gp']\n",
    "top5_raw['Prog'] = top5_raw['Prog'] / top5_raw['gp']\n",
    "top5_stats = top5_raw.drop('gp', axis = 1)\n",
    "top5_stats\n",
    "\n",
    "top5_stats_home = top5_stats\n",
    "top5_stats_home = top5_stats_home.rename(columns = {'Squad':'Home'})\n",
    "top5_stats_home = top5_stats_home[['Home', 'npxg','npxG/Sh','np:G-xG','Prog','SCA90','GCA90','Poss','psxg']]\n",
    "top5_stats_home\n",
    "\n",
    "top5_stats_away = top5_stats\n",
    "top5_stats_away = top5_stats_away.rename(columns = {'Squad':'Away'})\n",
    "top5_stats_away = top5_stats_away[['Away', 'npxg','npxG/Sh','np:G-xG','Prog','SCA90','GCA90','Poss','psxg']]\n",
    "top5_stats_away\n",
    "\n",
    "# switch to dataset with promoted teams after ~ 4 weeks\n",
    "\n",
    "top5_sched = pd.read_csv('/Users/matthewfalcona/FalconaForecast/datasets/top5_sched_21-22.csv')\n",
    "# top5_sched = pd.read_csv('/Users/matthewfalcona/FalconaForecast/datasets/top5_sched_21-22_noprom.csv')\n",
    "top5_sched = top5_sched[['Wk','Date','Home','Away']]\n",
    "top5_sched\n",
    "\n",
    "top5_matchup = pd.merge(top5_sched, top5_stats_home, on = 'Home', how = \"left\")\n",
    "top5_matchup = pd.merge(top5_matchup, top5_stats_away, on = 'Away', how = \"left\")\n",
    "\n",
    "#pd.DataFrame(totals_pred).to_csv('/Users/matthewfalcona/FalconaForecast/totals_pred_top5.csv')\n",
    "\n",
    "#pd.DataFrame(top5_matchup).to_csv('/Users/matthewfalcona/FalconaForecast/matchup_test.csv')\n",
    "\n",
    "\n",
    "########################################################################################\n",
    "\n",
    "# creating train and test sets for results model\n",
    "\n",
    "top5_hist = pd.read_csv('/Users/matthewfalcona/FalconaForecast/datasets/top5_hist.csv')\n",
    "\n",
    "top5_result_tt = top5_hist.drop(['Wk','Date','Home','Away','Total','ou'], axis = 1)\n",
    "top5_result_tt.head()\n",
    "top5_result_tt.shape"
   ]
  },
  {
   "cell_type": "code",
   "execution_count": 5,
   "metadata": {},
   "outputs": [
    {
     "output_type": "execute_result",
     "data": {
      "text/plain": [
       "(5762, 16)"
      ]
     },
     "metadata": {},
     "execution_count": 5
    }
   ],
   "source": [
    "y = top5_result_tt.Result\n",
    "x = top5_result_tt.drop('Result', axis = 1)\n",
    "\n",
    "x_train,x_test,y_train,y_test=train_test_split(x,y,test_size=0.2)\n",
    "\n",
    "x_train.shape\n"
   ]
  },
  {
   "cell_type": "code",
   "execution_count": 6,
   "metadata": {},
   "outputs": [
    {
     "output_type": "execute_result",
     "data": {
      "text/plain": [
       "(1441, 16)"
      ]
     },
     "metadata": {},
     "execution_count": 6
    }
   ],
   "source": [
    "x_test.shape\n"
   ]
  },
  {
   "cell_type": "code",
   "execution_count": 7,
   "metadata": {},
   "outputs": [
    {
     "output_type": "execute_result",
     "data": {
      "text/plain": [
       "(5762,)"
      ]
     },
     "metadata": {},
     "execution_count": 7
    }
   ],
   "source": [
    "y_train.shape\n"
   ]
  },
  {
   "cell_type": "code",
   "execution_count": 8,
   "metadata": {},
   "outputs": [
    {
     "output_type": "execute_result",
     "data": {
      "text/plain": [
       "(1441,)"
      ]
     },
     "metadata": {},
     "execution_count": 8
    }
   ],
   "source": [
    "y_test.shape"
   ]
  },
  {
   "cell_type": "code",
   "execution_count": 11,
   "metadata": {},
   "outputs": [
    {
     "output_type": "execute_result",
     "data": {
      "text/plain": [
       "(5762, 3)"
      ]
     },
     "metadata": {},
     "execution_count": 11
    }
   ],
   "source": [
    "# encode class values as integers\n",
    "encoder = LabelEncoder()\n",
    "encoder.fit(y_train)\n",
    "y_train = encoder.transform(y_train)\n",
    "# convert integers to dummy variables (i.e. one hot encoded)\n",
    "y_train = np_utils.to_categorical(y_train)\n",
    "\n",
    "# encode class values as integers\n",
    "encoder = LabelEncoder()\n",
    "encoder.fit(y_test)\n",
    "y_test = encoder.transform(y_test)\n",
    "# convert integers to dummy variables (i.e. one hot encoded)\n",
    "y_test = np_utils.to_categorical(y_test)\n",
    "\n",
    "y_train.shape"
   ]
  },
  {
   "cell_type": "code",
   "execution_count": 12,
   "metadata": {},
   "outputs": [
    {
     "output_type": "stream",
     "name": "stdout",
     "text": [
      "Epoch 1/50\n",
      "58/58 [==============================] - 1s 12ms/step - loss: 1.0311 - accuracy: 0.4756 - val_loss: 1.0049 - val_accuracy: 0.5094\n",
      "Epoch 2/50\n",
      "58/58 [==============================] - 0s 1ms/step - loss: 1.0030 - accuracy: 0.5134 - val_loss: 1.0012 - val_accuracy: 0.5003\n",
      "Epoch 3/50\n",
      "58/58 [==============================] - 0s 1ms/step - loss: 0.9921 - accuracy: 0.5077 - val_loss: 0.9922 - val_accuracy: 0.5170\n",
      "Epoch 4/50\n",
      "58/58 [==============================] - 0s 1ms/step - loss: 0.9807 - accuracy: 0.5225 - val_loss: 0.9878 - val_accuracy: 0.5198\n",
      "Epoch 5/50\n",
      "58/58 [==============================] - 0s 1ms/step - loss: 0.9817 - accuracy: 0.5179 - val_loss: 0.9914 - val_accuracy: 0.5115\n",
      "Epoch 6/50\n",
      "58/58 [==============================] - 0s 1ms/step - loss: 0.9853 - accuracy: 0.5213 - val_loss: 0.9838 - val_accuracy: 0.5226\n",
      "Epoch 7/50\n",
      "58/58 [==============================] - 0s 1ms/step - loss: 0.9844 - accuracy: 0.5257 - val_loss: 0.9974 - val_accuracy: 0.5024\n",
      "Epoch 8/50\n",
      "58/58 [==============================] - 0s 1ms/step - loss: 0.9761 - accuracy: 0.5273 - val_loss: 0.9829 - val_accuracy: 0.5260\n",
      "Epoch 9/50\n",
      "58/58 [==============================] - 0s 1ms/step - loss: 0.9824 - accuracy: 0.5235 - val_loss: 0.9864 - val_accuracy: 0.5212\n",
      "Epoch 10/50\n",
      "58/58 [==============================] - 0s 1ms/step - loss: 0.9834 - accuracy: 0.5211 - val_loss: 0.9905 - val_accuracy: 0.5253\n",
      "Epoch 11/50\n",
      "58/58 [==============================] - 0s 1ms/step - loss: 0.9581 - accuracy: 0.5364 - val_loss: 0.9851 - val_accuracy: 0.5239\n",
      "Epoch 12/50\n",
      "58/58 [==============================] - 0s 1ms/step - loss: 0.9834 - accuracy: 0.5237 - val_loss: 0.9882 - val_accuracy: 0.5253\n",
      "Epoch 13/50\n",
      "58/58 [==============================] - 0s 1ms/step - loss: 0.9890 - accuracy: 0.5161 - val_loss: 0.9762 - val_accuracy: 0.5288\n",
      "Epoch 14/50\n",
      "58/58 [==============================] - 0s 1ms/step - loss: 0.9645 - accuracy: 0.5465 - val_loss: 0.9758 - val_accuracy: 0.5253\n",
      "Epoch 15/50\n",
      "58/58 [==============================] - 0s 1ms/step - loss: 0.9735 - accuracy: 0.5377 - val_loss: 0.9775 - val_accuracy: 0.5323\n",
      "Epoch 16/50\n",
      "58/58 [==============================] - 0s 1ms/step - loss: 0.9581 - accuracy: 0.5428 - val_loss: 0.9750 - val_accuracy: 0.5350\n",
      "Epoch 17/50\n",
      "58/58 [==============================] - 0s 1ms/step - loss: 0.9762 - accuracy: 0.5317 - val_loss: 0.9896 - val_accuracy: 0.5094\n",
      "Epoch 18/50\n",
      "58/58 [==============================] - 0s 1ms/step - loss: 0.9750 - accuracy: 0.5237 - val_loss: 0.9714 - val_accuracy: 0.5274\n",
      "Epoch 19/50\n",
      "58/58 [==============================] - 0s 1ms/step - loss: 0.9746 - accuracy: 0.5301 - val_loss: 0.9730 - val_accuracy: 0.5288\n",
      "Epoch 20/50\n",
      "58/58 [==============================] - 0s 1ms/step - loss: 0.9666 - accuracy: 0.5363 - val_loss: 0.9771 - val_accuracy: 0.5350\n",
      "Epoch 21/50\n",
      "58/58 [==============================] - 0s 1ms/step - loss: 0.9522 - accuracy: 0.5571 - val_loss: 0.9755 - val_accuracy: 0.5316\n",
      "Epoch 22/50\n",
      "58/58 [==============================] - 0s 1ms/step - loss: 0.9637 - accuracy: 0.5459 - val_loss: 0.9693 - val_accuracy: 0.5337\n",
      "Epoch 23/50\n",
      "58/58 [==============================] - 0s 1ms/step - loss: 0.9700 - accuracy: 0.5320 - val_loss: 0.9703 - val_accuracy: 0.5350\n",
      "Epoch 24/50\n",
      "58/58 [==============================] - 0s 1ms/step - loss: 0.9755 - accuracy: 0.5361 - val_loss: 0.9697 - val_accuracy: 0.5357\n",
      "Epoch 25/50\n",
      "58/58 [==============================] - 0s 2ms/step - loss: 0.9617 - accuracy: 0.5319 - val_loss: 0.9756 - val_accuracy: 0.5399\n",
      "Epoch 26/50\n",
      "58/58 [==============================] - 0s 2ms/step - loss: 0.9661 - accuracy: 0.5426 - val_loss: 0.9716 - val_accuracy: 0.5350\n",
      "Epoch 27/50\n",
      "58/58 [==============================] - 0s 1ms/step - loss: 0.9642 - accuracy: 0.5396 - val_loss: 0.9709 - val_accuracy: 0.5316\n",
      "Epoch 28/50\n",
      "58/58 [==============================] - 0s 1ms/step - loss: 0.9622 - accuracy: 0.5385 - val_loss: 0.9693 - val_accuracy: 0.5260\n",
      "Epoch 29/50\n",
      "58/58 [==============================] - 0s 1ms/step - loss: 0.9535 - accuracy: 0.5431 - val_loss: 0.9711 - val_accuracy: 0.5392\n",
      "Epoch 30/50\n",
      "58/58 [==============================] - 0s 1ms/step - loss: 0.9652 - accuracy: 0.5435 - val_loss: 0.9712 - val_accuracy: 0.5260\n",
      "Epoch 31/50\n",
      "58/58 [==============================] - 0s 1ms/step - loss: 0.9658 - accuracy: 0.5407 - val_loss: 0.9736 - val_accuracy: 0.5288\n",
      "Epoch 32/50\n",
      "58/58 [==============================] - 0s 1ms/step - loss: 0.9651 - accuracy: 0.5350 - val_loss: 0.9659 - val_accuracy: 0.5371\n",
      "Epoch 33/50\n",
      "58/58 [==============================] - 0s 1ms/step - loss: 0.9699 - accuracy: 0.5363 - val_loss: 0.9671 - val_accuracy: 0.5350\n",
      "Epoch 34/50\n",
      "58/58 [==============================] - 0s 1ms/step - loss: 0.9740 - accuracy: 0.5266 - val_loss: 0.9652 - val_accuracy: 0.5337\n",
      "Epoch 35/50\n",
      "58/58 [==============================] - 0s 1ms/step - loss: 0.9639 - accuracy: 0.5417 - val_loss: 0.9660 - val_accuracy: 0.5385\n",
      "Epoch 36/50\n",
      "58/58 [==============================] - 0s 1ms/step - loss: 0.9671 - accuracy: 0.5371 - val_loss: 0.9656 - val_accuracy: 0.5288\n",
      "Epoch 37/50\n",
      "58/58 [==============================] - 0s 1ms/step - loss: 0.9709 - accuracy: 0.5290 - val_loss: 0.9668 - val_accuracy: 0.5350\n",
      "Epoch 38/50\n",
      "58/58 [==============================] - 0s 1ms/step - loss: 0.9564 - accuracy: 0.5452 - val_loss: 0.9728 - val_accuracy: 0.5385\n",
      "Epoch 39/50\n",
      "58/58 [==============================] - 0s 1ms/step - loss: 0.9593 - accuracy: 0.5477 - val_loss: 0.9674 - val_accuracy: 0.5350\n",
      "Epoch 40/50\n",
      "58/58 [==============================] - 0s 1ms/step - loss: 0.9667 - accuracy: 0.5388 - val_loss: 0.9643 - val_accuracy: 0.5330\n",
      "Epoch 41/50\n",
      "58/58 [==============================] - 0s 1ms/step - loss: 0.9648 - accuracy: 0.5392 - val_loss: 0.9654 - val_accuracy: 0.5392\n",
      "Epoch 42/50\n",
      "58/58 [==============================] - 0s 1ms/step - loss: 0.9602 - accuracy: 0.5441 - val_loss: 0.9668 - val_accuracy: 0.5309\n",
      "Epoch 43/50\n",
      "58/58 [==============================] - 0s 2ms/step - loss: 0.9684 - accuracy: 0.5371 - val_loss: 0.9668 - val_accuracy: 0.5316\n",
      "Epoch 44/50\n",
      "58/58 [==============================] - 0s 1ms/step - loss: 0.9604 - accuracy: 0.5438 - val_loss: 0.9718 - val_accuracy: 0.5246\n",
      "Epoch 45/50\n",
      "58/58 [==============================] - 0s 1ms/step - loss: 0.9563 - accuracy: 0.5452 - val_loss: 0.9665 - val_accuracy: 0.5253\n",
      "Epoch 46/50\n",
      "58/58 [==============================] - 0s 1ms/step - loss: 0.9612 - accuracy: 0.5367 - val_loss: 0.9727 - val_accuracy: 0.5267\n",
      "Epoch 47/50\n",
      "58/58 [==============================] - 0s 1ms/step - loss: 0.9666 - accuracy: 0.5378 - val_loss: 0.9666 - val_accuracy: 0.5378\n",
      "Epoch 48/50\n",
      "58/58 [==============================] - 0s 1ms/step - loss: 0.9645 - accuracy: 0.5404 - val_loss: 0.9657 - val_accuracy: 0.5316\n",
      "Epoch 49/50\n",
      "58/58 [==============================] - 0s 1ms/step - loss: 0.9490 - accuracy: 0.5523 - val_loss: 0.9651 - val_accuracy: 0.5309\n",
      "Epoch 50/50\n",
      "58/58 [==============================] - 0s 1ms/step - loss: 0.9680 - accuracy: 0.5327 - val_loss: 0.9755 - val_accuracy: 0.5267\n",
      "Baseline Error: 47.33%\n",
      "5.057126045227051\n"
     ]
    }
   ],
   "source": [
    "def base_model():\n",
    "    model = Sequential() # for training and inference features\n",
    "    model.add(Dense(50, input_dim = 16, kernel_initializer='normal', activation='tanh'))\n",
    "    model.add(Dropout(.1))\n",
    "    model.add(Dense(3, kernel_initializer='normal', activation='softmax'))\n",
    "    model.compile(loss='categorical_crossentropy', optimizer='adam', metrics = ['accuracy'])\n",
    "    return(model)\n",
    "\n",
    "\n",
    "# model fitting\n",
    "\n",
    "start = time.time()  # TRACK TIME\n",
    "\n",
    "model = base_model()\n",
    "\n",
    "model.fit(x_train, y_train, validation_data = (x_test, y_test), epochs = 50, batch_size = 100, verbose = 1)\n",
    "\n",
    "scores = model.evaluate(x_test, y_test, verbose=0)\n",
    "print(\"Baseline Error: %.2f%%\" % (100-scores[1]*100))\n",
    "\n",
    "# # MODEL - RESULTS\n",
    "\n",
    "\n",
    "end = time.time()\n",
    "final_time = end-start\n",
    "print(final_time)\n",
    "\n",
    "test_acc = model.predict(x_test)"
   ]
  },
  {
   "cell_type": "code",
   "execution_count": 13,
   "metadata": {},
   "outputs": [],
   "source": [
    "top5_pred = pd.read_csv('/Users/matthewfalcona/FalconaForecast/datasets/top5_sched_21-22.csv')\n",
    "# top5_pred = pd.read_csv('/Users/matthewfalcona/FalconaForecast/datasets/top5_sched_21-22_noprom.csv')\n",
    "# top5_pred = top5_pred[~top5_pred.isin(prom)]\n",
    "top5_pred = top5_pred[['Home','Away']]\n",
    "top5_pred = pd.merge(top5_pred, top5_stats_home, on = 'Home', how = \"left\")\n",
    "top5_pred = pd.merge(top5_pred, top5_stats_away, on = 'Away', how = \"left\")\n",
    "# top5_pred = top5_pred.dropna()\n",
    "top5_pred\n",
    "\n",
    "top5_pred_model = top5_pred.drop(columns = ['Home','Away'])\n",
    "\n",
    "probs = model.predict(top5_pred_model)\n"
   ]
  },
  {
   "cell_type": "code",
   "execution_count": null,
   "metadata": {},
   "outputs": [],
   "source": [
    "pd.DataFrame(probs).to_csv('/Users/matthewfalcona/FalconaForecast/probs_top5.csv')\n",
    "pd.DataFrame(top5_pred).to_csv('/Users/matthewfalcona/FalconaForecast/top5_pred.csv')"
   ]
  },
  {
   "cell_type": "code",
   "execution_count": 16,
   "metadata": {},
   "outputs": [
    {
     "output_type": "execute_result",
     "data": {
      "text/plain": [
       "<IPython.core.display.HTML object>"
      ],
      "text/html": "\n    <style>\n    table.eli5-weights tr:hover {\n        filter: brightness(85%);\n    }\n</style>\n\n\n\n    \n\n    \n\n    \n\n    \n\n    \n\n    \n\n\n    \n\n    \n\n    \n\n    \n\n    \n\n    \n\n\n    \n\n    \n\n    \n\n    \n\n    \n        <table class=\"eli5-weights eli5-feature-importances\" style=\"border-collapse: collapse; border: none; margin-top: 0em; table-layout: auto;\">\n    <thead>\n    <tr style=\"border: none;\">\n        <th style=\"padding: 0 1em 0 0.5em; text-align: right; border: none;\">Weight</th>\n        <th style=\"padding: 0 0.5em 0 0.5em; text-align: left; border: none;\">Feature</th>\n    </tr>\n    </thead>\n    <tbody>\n    \n        <tr style=\"background-color: hsl(120, 100.00%, 80.00%); border: none;\">\n            <td style=\"padding: 0 1em 0 0.5em; text-align: right; border: none;\">\n                0.0193\n                \n                    &plusmn; 0.0104\n                \n            </td>\n            <td style=\"padding: 0 0.5em 0 0.5em; text-align: left; border: none;\">\n                GCA90_y\n            </td>\n        </tr>\n    \n        <tr style=\"background-color: hsl(120, 100.00%, 82.55%); border: none;\">\n            <td style=\"padding: 0 1em 0 0.5em; text-align: right; border: none;\">\n                0.0158\n                \n                    &plusmn; 0.0056\n                \n            </td>\n            <td style=\"padding: 0 0.5em 0 0.5em; text-align: left; border: none;\">\n                psxg_y\n            </td>\n        </tr>\n    \n        <tr style=\"background-color: hsl(120, 100.00%, 83.06%); border: none;\">\n            <td style=\"padding: 0 1em 0 0.5em; text-align: right; border: none;\">\n                0.0152\n                \n                    &plusmn; 0.0115\n                \n            </td>\n            <td style=\"padding: 0 0.5em 0 0.5em; text-align: left; border: none;\">\n                SCA90_y\n            </td>\n        </tr>\n    \n        <tr style=\"background-color: hsl(120, 100.00%, 85.60%); border: none;\">\n            <td style=\"padding: 0 1em 0 0.5em; text-align: right; border: none;\">\n                0.0120\n                \n                    &plusmn; 0.0081\n                \n            </td>\n            <td style=\"padding: 0 0.5em 0 0.5em; text-align: left; border: none;\">\n                psxg_x\n            </td>\n        </tr>\n    \n        <tr style=\"background-color: hsl(120, 100.00%, 92.00%); border: none;\">\n            <td style=\"padding: 0 1em 0 0.5em; text-align: right; border: none;\">\n                0.0052\n                \n                    &plusmn; 0.0032\n                \n            </td>\n            <td style=\"padding: 0 0.5em 0 0.5em; text-align: left; border: none;\">\n                Prog_x\n            </td>\n        </tr>\n    \n        <tr style=\"background-color: hsl(120, 100.00%, 94.18%); border: none;\">\n            <td style=\"padding: 0 1em 0 0.5em; text-align: right; border: none;\">\n                0.0033\n                \n                    &plusmn; 0.0068\n                \n            </td>\n            <td style=\"padding: 0 0.5em 0 0.5em; text-align: left; border: none;\">\n                SCA90_x\n            </td>\n        </tr>\n    \n        <tr style=\"background-color: hsl(120, 100.00%, 94.19%); border: none;\">\n            <td style=\"padding: 0 1em 0 0.5em; text-align: right; border: none;\">\n                0.0033\n                \n                    &plusmn; 0.0040\n                \n            </td>\n            <td style=\"padding: 0 0.5em 0 0.5em; text-align: left; border: none;\">\n                Poss_y\n            </td>\n        </tr>\n    \n        <tr style=\"background-color: hsl(120, 100.00%, 95.00%); border: none;\">\n            <td style=\"padding: 0 1em 0 0.5em; text-align: right; border: none;\">\n                0.0027\n                \n                    &plusmn; 0.0034\n                \n            </td>\n            <td style=\"padding: 0 0.5em 0 0.5em; text-align: left; border: none;\">\n                np:G-xG_y\n            </td>\n        </tr>\n    \n        <tr style=\"background-color: hsl(120, 100.00%, 95.50%); border: none;\">\n            <td style=\"padding: 0 1em 0 0.5em; text-align: right; border: none;\">\n                0.0023\n                \n                    &plusmn; 0.0039\n                \n            </td>\n            <td style=\"padding: 0 0.5em 0 0.5em; text-align: left; border: none;\">\n                npxg_y\n            </td>\n        </tr>\n    \n        <tr style=\"background-color: hsl(120, 100.00%, 96.38%); border: none;\">\n            <td style=\"padding: 0 1em 0 0.5em; text-align: right; border: none;\">\n                0.0017\n                \n                    &plusmn; 0.0081\n                \n            </td>\n            <td style=\"padding: 0 0.5em 0 0.5em; text-align: left; border: none;\">\n                GCA90_x\n            </td>\n        </tr>\n    \n        <tr style=\"background-color: hsl(120, 100.00%, 99.21%); border: none;\">\n            <td style=\"padding: 0 1em 0 0.5em; text-align: right; border: none;\">\n                0.0002\n                \n                    &plusmn; 0.0048\n                \n            </td>\n            <td style=\"padding: 0 0.5em 0 0.5em; text-align: left; border: none;\">\n                Poss_x\n            </td>\n        </tr>\n    \n        <tr style=\"background-color: hsl(0, 100.00%, 99.86%); border: none;\">\n            <td style=\"padding: 0 1em 0 0.5em; text-align: right; border: none;\">\n                -0.0000\n                \n                    &plusmn; 0.0002\n                \n            </td>\n            <td style=\"padding: 0 0.5em 0 0.5em; text-align: left; border: none;\">\n                npxG/Sh_y\n            </td>\n        </tr>\n    \n        <tr style=\"background-color: hsl(0, 100.00%, 99.82%); border: none;\">\n            <td style=\"padding: 0 1em 0 0.5em; text-align: right; border: none;\">\n                -0.0000\n                \n                    &plusmn; 0.0009\n                \n            </td>\n            <td style=\"padding: 0 0.5em 0 0.5em; text-align: left; border: none;\">\n                Prog_y\n            </td>\n        </tr>\n    \n        <tr style=\"background-color: hsl(0, 100.00%, 99.38%); border: none;\">\n            <td style=\"padding: 0 1em 0 0.5em; text-align: right; border: none;\">\n                -0.0001\n                \n                    &plusmn; 0.0002\n                \n            </td>\n            <td style=\"padding: 0 0.5em 0 0.5em; text-align: left; border: none;\">\n                npxG/Sh_x\n            </td>\n        </tr>\n    \n        <tr style=\"background-color: hsl(0, 100.00%, 99.27%); border: none;\">\n            <td style=\"padding: 0 1em 0 0.5em; text-align: right; border: none;\">\n                -0.0002\n                \n                    &plusmn; 0.0053\n                \n            </td>\n            <td style=\"padding: 0 0.5em 0 0.5em; text-align: left; border: none;\">\n                np:G-xG_x\n            </td>\n        </tr>\n    \n        <tr style=\"background-color: hsl(0, 100.00%, 98.29%); border: none;\">\n            <td style=\"padding: 0 1em 0 0.5em; text-align: right; border: none;\">\n                -0.0006\n                \n                    &plusmn; 0.0012\n                \n            </td>\n            <td style=\"padding: 0 0.5em 0 0.5em; text-align: left; border: none;\">\n                npxg_x\n            </td>\n        </tr>\n    \n    \n    </tbody>\n</table>\n    \n\n    \n\n\n    \n\n    \n\n    \n\n    \n\n    \n\n    \n\n\n\n"
     },
     "metadata": {},
     "execution_count": 16
    }
   ],
   "source": [
    "perm = PermutationImportance(model, random_state=1, scoring=\"average_precision\").fit(x_test, y_test)\n",
    "results_feat_imp = eli5.show_weights(perm, feature_names = x_test.columns.tolist())\n",
    "results_feat_imp"
   ]
  },
  {
   "cell_type": "code",
   "execution_count": 19,
   "metadata": {},
   "outputs": [
    {
     "output_type": "error",
     "ename": "ValueError",
     "evalue": "multiclass format is not supported",
     "traceback": [
      "\u001b[0;31m---------------------------------------------------------------------------\u001b[0m",
      "\u001b[0;31mValueError\u001b[0m                                Traceback (most recent call last)",
      "\u001b[0;32m<ipython-input-19-e5aff34d9ac3>\u001b[0m in \u001b[0;36m<module>\u001b[0;34m\u001b[0m\n\u001b[1;32m      3\u001b[0m \u001b[0;34m\u001b[0m\u001b[0m\n\u001b[1;32m      4\u001b[0m \u001b[0;31m# perform permutation importance\u001b[0m\u001b[0;34m\u001b[0m\u001b[0;34m\u001b[0m\u001b[0;34m\u001b[0m\u001b[0m\n\u001b[0;32m----> 5\u001b[0;31m \u001b[0mresults\u001b[0m \u001b[0;34m=\u001b[0m \u001b[0mpermutation_importance\u001b[0m\u001b[0;34m(\u001b[0m\u001b[0mmodel\u001b[0m\u001b[0;34m,\u001b[0m \u001b[0mx\u001b[0m\u001b[0;34m,\u001b[0m \u001b[0my\u001b[0m\u001b[0;34m,\u001b[0m \u001b[0mscoring\u001b[0m\u001b[0;34m=\u001b[0m\u001b[0;34m'average_precision'\u001b[0m\u001b[0;34m)\u001b[0m\u001b[0;34m\u001b[0m\u001b[0;34m\u001b[0m\u001b[0m\n\u001b[0m\u001b[1;32m      6\u001b[0m \u001b[0;31m# get importance\u001b[0m\u001b[0;34m\u001b[0m\u001b[0;34m\u001b[0m\u001b[0;34m\u001b[0m\u001b[0m\n\u001b[1;32m      7\u001b[0m \u001b[0mimportance\u001b[0m \u001b[0;34m=\u001b[0m \u001b[0mresults\u001b[0m\u001b[0;34m.\u001b[0m\u001b[0mimportances_mean\u001b[0m\u001b[0;34m\u001b[0m\u001b[0;34m\u001b[0m\u001b[0m\n",
      "\u001b[0;32m~/opt/anaconda3/lib/python3.8/site-packages/sklearn/utils/validation.py\u001b[0m in \u001b[0;36minner_f\u001b[0;34m(*args, **kwargs)\u001b[0m\n\u001b[1;32m     61\u001b[0m             \u001b[0mextra_args\u001b[0m \u001b[0;34m=\u001b[0m \u001b[0mlen\u001b[0m\u001b[0;34m(\u001b[0m\u001b[0margs\u001b[0m\u001b[0;34m)\u001b[0m \u001b[0;34m-\u001b[0m \u001b[0mlen\u001b[0m\u001b[0;34m(\u001b[0m\u001b[0mall_args\u001b[0m\u001b[0;34m)\u001b[0m\u001b[0;34m\u001b[0m\u001b[0;34m\u001b[0m\u001b[0m\n\u001b[1;32m     62\u001b[0m             \u001b[0;32mif\u001b[0m \u001b[0mextra_args\u001b[0m \u001b[0;34m<=\u001b[0m \u001b[0;36m0\u001b[0m\u001b[0;34m:\u001b[0m\u001b[0;34m\u001b[0m\u001b[0;34m\u001b[0m\u001b[0m\n\u001b[0;32m---> 63\u001b[0;31m                 \u001b[0;32mreturn\u001b[0m \u001b[0mf\u001b[0m\u001b[0;34m(\u001b[0m\u001b[0;34m*\u001b[0m\u001b[0margs\u001b[0m\u001b[0;34m,\u001b[0m \u001b[0;34m**\u001b[0m\u001b[0mkwargs\u001b[0m\u001b[0;34m)\u001b[0m\u001b[0;34m\u001b[0m\u001b[0;34m\u001b[0m\u001b[0m\n\u001b[0m\u001b[1;32m     64\u001b[0m \u001b[0;34m\u001b[0m\u001b[0m\n\u001b[1;32m     65\u001b[0m             \u001b[0;31m# extra_args > 0\u001b[0m\u001b[0;34m\u001b[0m\u001b[0;34m\u001b[0m\u001b[0;34m\u001b[0m\u001b[0m\n",
      "\u001b[0;32m~/opt/anaconda3/lib/python3.8/site-packages/sklearn/inspection/_permutation_importance.py\u001b[0m in \u001b[0;36mpermutation_importance\u001b[0;34m(estimator, X, y, scoring, n_repeats, n_jobs, random_state, sample_weight)\u001b[0m\n\u001b[1;32m    145\u001b[0m \u001b[0;34m\u001b[0m\u001b[0m\n\u001b[1;32m    146\u001b[0m     \u001b[0mscorer\u001b[0m \u001b[0;34m=\u001b[0m \u001b[0mcheck_scoring\u001b[0m\u001b[0;34m(\u001b[0m\u001b[0mestimator\u001b[0m\u001b[0;34m,\u001b[0m \u001b[0mscoring\u001b[0m\u001b[0;34m=\u001b[0m\u001b[0mscoring\u001b[0m\u001b[0;34m)\u001b[0m\u001b[0;34m\u001b[0m\u001b[0;34m\u001b[0m\u001b[0m\n\u001b[0;32m--> 147\u001b[0;31m     \u001b[0mbaseline_score\u001b[0m \u001b[0;34m=\u001b[0m \u001b[0m_weights_scorer\u001b[0m\u001b[0;34m(\u001b[0m\u001b[0mscorer\u001b[0m\u001b[0;34m,\u001b[0m \u001b[0mestimator\u001b[0m\u001b[0;34m,\u001b[0m \u001b[0mX\u001b[0m\u001b[0;34m,\u001b[0m \u001b[0my\u001b[0m\u001b[0;34m,\u001b[0m \u001b[0msample_weight\u001b[0m\u001b[0;34m)\u001b[0m\u001b[0;34m\u001b[0m\u001b[0;34m\u001b[0m\u001b[0m\n\u001b[0m\u001b[1;32m    148\u001b[0m \u001b[0;34m\u001b[0m\u001b[0m\n\u001b[1;32m    149\u001b[0m     scores = Parallel(n_jobs=n_jobs)(delayed(_calculate_permutation_scores)(\n",
      "\u001b[0;32m~/opt/anaconda3/lib/python3.8/site-packages/sklearn/inspection/_permutation_importance.py\u001b[0m in \u001b[0;36m_weights_scorer\u001b[0;34m(scorer, estimator, X, y, sample_weight)\u001b[0m\n\u001b[1;32m     14\u001b[0m     \u001b[0;32mif\u001b[0m \u001b[0msample_weight\u001b[0m \u001b[0;32mis\u001b[0m \u001b[0;32mnot\u001b[0m \u001b[0;32mNone\u001b[0m\u001b[0;34m:\u001b[0m\u001b[0;34m\u001b[0m\u001b[0;34m\u001b[0m\u001b[0m\n\u001b[1;32m     15\u001b[0m         \u001b[0;32mreturn\u001b[0m \u001b[0mscorer\u001b[0m\u001b[0;34m(\u001b[0m\u001b[0mestimator\u001b[0m\u001b[0;34m,\u001b[0m \u001b[0mX\u001b[0m\u001b[0;34m,\u001b[0m \u001b[0my\u001b[0m\u001b[0;34m,\u001b[0m \u001b[0msample_weight\u001b[0m\u001b[0;34m)\u001b[0m\u001b[0;34m\u001b[0m\u001b[0;34m\u001b[0m\u001b[0m\n\u001b[0;32m---> 16\u001b[0;31m     \u001b[0;32mreturn\u001b[0m \u001b[0mscorer\u001b[0m\u001b[0;34m(\u001b[0m\u001b[0mestimator\u001b[0m\u001b[0;34m,\u001b[0m \u001b[0mX\u001b[0m\u001b[0;34m,\u001b[0m \u001b[0my\u001b[0m\u001b[0;34m)\u001b[0m\u001b[0;34m\u001b[0m\u001b[0;34m\u001b[0m\u001b[0m\n\u001b[0m\u001b[1;32m     17\u001b[0m \u001b[0;34m\u001b[0m\u001b[0m\n\u001b[1;32m     18\u001b[0m \u001b[0;34m\u001b[0m\u001b[0m\n",
      "\u001b[0;32m~/opt/anaconda3/lib/python3.8/site-packages/sklearn/metrics/_scorer.py\u001b[0m in \u001b[0;36m__call__\u001b[0;34m(self, estimator, X, y_true, sample_weight)\u001b[0m\n\u001b[1;32m    197\u001b[0m             \u001b[0mScore\u001b[0m \u001b[0mfunction\u001b[0m \u001b[0mapplied\u001b[0m \u001b[0mto\u001b[0m \u001b[0mprediction\u001b[0m \u001b[0mof\u001b[0m \u001b[0mestimator\u001b[0m \u001b[0mon\u001b[0m \u001b[0mX\u001b[0m\u001b[0;34m.\u001b[0m\u001b[0;34m\u001b[0m\u001b[0;34m\u001b[0m\u001b[0m\n\u001b[1;32m    198\u001b[0m         \"\"\"\n\u001b[0;32m--> 199\u001b[0;31m         return self._score(partial(_cached_call, None), estimator, X, y_true,\n\u001b[0m\u001b[1;32m    200\u001b[0m                            sample_weight=sample_weight)\n\u001b[1;32m    201\u001b[0m \u001b[0;34m\u001b[0m\u001b[0m\n",
      "\u001b[0;32m~/opt/anaconda3/lib/python3.8/site-packages/sklearn/metrics/_scorer.py\u001b[0m in \u001b[0;36m_score\u001b[0;34m(self, method_caller, clf, X, y, sample_weight)\u001b[0m\n\u001b[1;32m    326\u001b[0m         \u001b[0my_type\u001b[0m \u001b[0;34m=\u001b[0m \u001b[0mtype_of_target\u001b[0m\u001b[0;34m(\u001b[0m\u001b[0my\u001b[0m\u001b[0;34m)\u001b[0m\u001b[0;34m\u001b[0m\u001b[0;34m\u001b[0m\u001b[0m\n\u001b[1;32m    327\u001b[0m         \u001b[0;32mif\u001b[0m \u001b[0my_type\u001b[0m \u001b[0;32mnot\u001b[0m \u001b[0;32min\u001b[0m \u001b[0;34m(\u001b[0m\u001b[0;34m\"binary\"\u001b[0m\u001b[0;34m,\u001b[0m \u001b[0;34m\"multilabel-indicator\"\u001b[0m\u001b[0;34m)\u001b[0m\u001b[0;34m:\u001b[0m\u001b[0;34m\u001b[0m\u001b[0;34m\u001b[0m\u001b[0m\n\u001b[0;32m--> 328\u001b[0;31m             \u001b[0;32mraise\u001b[0m \u001b[0mValueError\u001b[0m\u001b[0;34m(\u001b[0m\u001b[0;34m\"{0} format is not supported\"\u001b[0m\u001b[0;34m.\u001b[0m\u001b[0mformat\u001b[0m\u001b[0;34m(\u001b[0m\u001b[0my_type\u001b[0m\u001b[0;34m)\u001b[0m\u001b[0;34m)\u001b[0m\u001b[0;34m\u001b[0m\u001b[0;34m\u001b[0m\u001b[0m\n\u001b[0m\u001b[1;32m    329\u001b[0m \u001b[0;34m\u001b[0m\u001b[0m\n\u001b[1;32m    330\u001b[0m         \u001b[0;32mif\u001b[0m \u001b[0mis_regressor\u001b[0m\u001b[0;34m(\u001b[0m\u001b[0mclf\u001b[0m\u001b[0;34m)\u001b[0m\u001b[0;34m:\u001b[0m\u001b[0;34m\u001b[0m\u001b[0;34m\u001b[0m\u001b[0m\n",
      "\u001b[0;31mValueError\u001b[0m: multiclass format is not supported"
     ]
    }
   ],
   "source": [
    "from sklearn.inspection import permutation_importance\n",
    "\n",
    "\n",
    "# perform permutation importance\n",
    "results = permutation_importance(model, x, y, scoring='average_precision')\n",
    "# get importance\n",
    "importance = results.importances_mean\n",
    "# summarize feature importance\n",
    "for i,v in enumerate(importance):\n",
    "\tprint('Feature: %0d, Score: %.5f' % (i,v))"
   ]
  },
  {
   "cell_type": "code",
   "execution_count": 18,
   "metadata": {},
   "outputs": [
    {
     "output_type": "error",
     "ename": "ValueError",
     "evalue": "Classification metrics can't handle a mix of continuous-multioutput and multilabel-indicator targets",
     "traceback": [
      "\u001b[0;31m---------------------------------------------------------------------------\u001b[0m",
      "\u001b[0;31mValueError\u001b[0m                                Traceback (most recent call last)",
      "\u001b[0;32m<ipython-input-18-5244b699e6bc>\u001b[0m in \u001b[0;36m<module>\u001b[0;34m\u001b[0m\n\u001b[1;32m      1\u001b[0m \u001b[0;32mfrom\u001b[0m \u001b[0msklearn\u001b[0m\u001b[0;34m.\u001b[0m\u001b[0mmetrics\u001b[0m \u001b[0;32mimport\u001b[0m \u001b[0mclassification_report\u001b[0m\u001b[0;34m\u001b[0m\u001b[0;34m\u001b[0m\u001b[0m\n\u001b[0;32m----> 2\u001b[0;31m \u001b[0mprint\u001b[0m\u001b[0;34m(\u001b[0m\u001b[0mclassification_report\u001b[0m\u001b[0;34m(\u001b[0m\u001b[0mx_test\u001b[0m\u001b[0;34m,\u001b[0m \u001b[0my_test\u001b[0m\u001b[0;34m)\u001b[0m\u001b[0;34m)\u001b[0m\u001b[0;34m\u001b[0m\u001b[0;34m\u001b[0m\u001b[0m\n\u001b[0m",
      "\u001b[0;32m~/opt/anaconda3/lib/python3.8/site-packages/sklearn/utils/validation.py\u001b[0m in \u001b[0;36minner_f\u001b[0;34m(*args, **kwargs)\u001b[0m\n\u001b[1;32m     61\u001b[0m             \u001b[0mextra_args\u001b[0m \u001b[0;34m=\u001b[0m \u001b[0mlen\u001b[0m\u001b[0;34m(\u001b[0m\u001b[0margs\u001b[0m\u001b[0;34m)\u001b[0m \u001b[0;34m-\u001b[0m \u001b[0mlen\u001b[0m\u001b[0;34m(\u001b[0m\u001b[0mall_args\u001b[0m\u001b[0;34m)\u001b[0m\u001b[0;34m\u001b[0m\u001b[0;34m\u001b[0m\u001b[0m\n\u001b[1;32m     62\u001b[0m             \u001b[0;32mif\u001b[0m \u001b[0mextra_args\u001b[0m \u001b[0;34m<=\u001b[0m \u001b[0;36m0\u001b[0m\u001b[0;34m:\u001b[0m\u001b[0;34m\u001b[0m\u001b[0;34m\u001b[0m\u001b[0m\n\u001b[0;32m---> 63\u001b[0;31m                 \u001b[0;32mreturn\u001b[0m \u001b[0mf\u001b[0m\u001b[0;34m(\u001b[0m\u001b[0;34m*\u001b[0m\u001b[0margs\u001b[0m\u001b[0;34m,\u001b[0m \u001b[0;34m**\u001b[0m\u001b[0mkwargs\u001b[0m\u001b[0;34m)\u001b[0m\u001b[0;34m\u001b[0m\u001b[0;34m\u001b[0m\u001b[0m\n\u001b[0m\u001b[1;32m     64\u001b[0m \u001b[0;34m\u001b[0m\u001b[0m\n\u001b[1;32m     65\u001b[0m             \u001b[0;31m# extra_args > 0\u001b[0m\u001b[0;34m\u001b[0m\u001b[0;34m\u001b[0m\u001b[0;34m\u001b[0m\u001b[0m\n",
      "\u001b[0;32m~/opt/anaconda3/lib/python3.8/site-packages/sklearn/metrics/_classification.py\u001b[0m in \u001b[0;36mclassification_report\u001b[0;34m(y_true, y_pred, labels, target_names, sample_weight, digits, output_dict, zero_division)\u001b[0m\n\u001b[1;32m   1964\u001b[0m     \"\"\"\n\u001b[1;32m   1965\u001b[0m \u001b[0;34m\u001b[0m\u001b[0m\n\u001b[0;32m-> 1966\u001b[0;31m     \u001b[0my_type\u001b[0m\u001b[0;34m,\u001b[0m \u001b[0my_true\u001b[0m\u001b[0;34m,\u001b[0m \u001b[0my_pred\u001b[0m \u001b[0;34m=\u001b[0m \u001b[0m_check_targets\u001b[0m\u001b[0;34m(\u001b[0m\u001b[0my_true\u001b[0m\u001b[0;34m,\u001b[0m \u001b[0my_pred\u001b[0m\u001b[0;34m)\u001b[0m\u001b[0;34m\u001b[0m\u001b[0;34m\u001b[0m\u001b[0m\n\u001b[0m\u001b[1;32m   1967\u001b[0m \u001b[0;34m\u001b[0m\u001b[0m\n\u001b[1;32m   1968\u001b[0m     \u001b[0;32mif\u001b[0m \u001b[0mlabels\u001b[0m \u001b[0;32mis\u001b[0m \u001b[0;32mNone\u001b[0m\u001b[0;34m:\u001b[0m\u001b[0;34m\u001b[0m\u001b[0;34m\u001b[0m\u001b[0m\n",
      "\u001b[0;32m~/opt/anaconda3/lib/python3.8/site-packages/sklearn/metrics/_classification.py\u001b[0m in \u001b[0;36m_check_targets\u001b[0;34m(y_true, y_pred)\u001b[0m\n\u001b[1;32m     90\u001b[0m \u001b[0;34m\u001b[0m\u001b[0m\n\u001b[1;32m     91\u001b[0m     \u001b[0;32mif\u001b[0m \u001b[0mlen\u001b[0m\u001b[0;34m(\u001b[0m\u001b[0my_type\u001b[0m\u001b[0;34m)\u001b[0m \u001b[0;34m>\u001b[0m \u001b[0;36m1\u001b[0m\u001b[0;34m:\u001b[0m\u001b[0;34m\u001b[0m\u001b[0;34m\u001b[0m\u001b[0m\n\u001b[0;32m---> 92\u001b[0;31m         raise ValueError(\"Classification metrics can't handle a mix of {0} \"\n\u001b[0m\u001b[1;32m     93\u001b[0m                          \"and {1} targets\".format(type_true, type_pred))\n\u001b[1;32m     94\u001b[0m \u001b[0;34m\u001b[0m\u001b[0m\n",
      "\u001b[0;31mValueError\u001b[0m: Classification metrics can't handle a mix of continuous-multioutput and multilabel-indicator targets"
     ]
    }
   ],
   "source": [
    "from sklearn.metrics import classification_report\n",
    "print(classification_report(x_test, y_test))"
   ]
  },
  {
   "cell_type": "code",
   "execution_count": null,
   "metadata": {},
   "outputs": [],
   "source": []
  },
  {
   "cell_type": "code",
   "execution_count": null,
   "metadata": {},
   "outputs": [],
   "source": []
  }
 ]
}